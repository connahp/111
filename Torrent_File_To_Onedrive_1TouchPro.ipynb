{
  "nbformat": 4,
  "nbformat_minor": 0,
  "metadata": {
    "colab": {
      "provenance": [],
      "include_colab_link": true
    },
    "kernelspec": {
      "name": "python3",
      "display_name": "Python 3"
    },
    "language_info": {
      "name": "python"
    }
  },
  "cells": [
    {
      "cell_type": "markdown",
      "metadata": {
        "id": "view-in-github",
        "colab_type": "text"
      },
      "source": [
        "<a href=\"https://colab.research.google.com/github/connahp/111/blob/main/Torrent_File_To_Onedrive_1TouchPro.ipynb\" target=\"_parent\"><img src=\"https://colab.research.google.com/assets/colab-badge.svg\" alt=\"Open In Colab\"/></a>"
      ]
    },
    {
      "cell_type": "markdown",
      "metadata": {
        "id": "cJzY3hfpLwPj"
      },
      "source": [
        "# <font color='orange'>TẢI TORRENT FILE VÀO ONEDRIVE\n",
        "Script 1Touch Pro - www.1touch.pro"
      ]
    },
    {
      "cell_type": "markdown",
      "metadata": {
        "id": "bBgmZJTe4Xkj"
      },
      "source": [
        "# 1.Cài đặt RClone và Libtorrent\n"
      ]
    },
    {
      "cell_type": "code",
      "metadata": {
        "id": "967x0RwzyWCb",
        "outputId": "7f2194ca-e693-48f2-8a16-37dd78aff7b3",
        "colab": {
          "base_uri": "https://localhost:8080/"
        }
      },
      "source": [
        "!python -m pip install --upgrade pip setuptools wheel\n",
        "!python -m pip install lbry-libtorrent\n",
        "!wget https://downloads.rclone.org/v1.52.1/rclone-v1.52.1-linux-amd64.deb\n",
        "!apt install ./rclone-v1.52.1-linux-amd64.deb"
      ],
      "execution_count": 1,
      "outputs": [
        {
          "output_type": "stream",
          "name": "stdout",
          "text": [
            "Requirement already satisfied: pip in /usr/local/lib/python3.11/dist-packages (24.1.2)\n",
            "Collecting pip\n",
            "  Downloading pip-25.0.1-py3-none-any.whl.metadata (3.7 kB)\n",
            "Requirement already satisfied: setuptools in /usr/local/lib/python3.11/dist-packages (75.1.0)\n",
            "Collecting setuptools\n",
            "  Downloading setuptools-75.8.2-py3-none-any.whl.metadata (6.7 kB)\n",
            "Requirement already satisfied: wheel in /usr/local/lib/python3.11/dist-packages (0.45.1)\n",
            "Downloading pip-25.0.1-py3-none-any.whl (1.8 MB)\n",
            "\u001b[2K   \u001b[90m━━━━━━━━━━━━━━━━━━━━━━━━━━━━━━━━━━━━━━━━\u001b[0m \u001b[32m1.8/1.8 MB\u001b[0m \u001b[31m23.7 MB/s\u001b[0m eta \u001b[36m0:00:00\u001b[0m\n",
            "\u001b[?25hDownloading setuptools-75.8.2-py3-none-any.whl (1.2 MB)\n",
            "\u001b[2K   \u001b[90m━━━━━━━━━━━━━━━━━━━━━━━━━━━━━━━━━━━━━━━━\u001b[0m \u001b[32m1.2/1.2 MB\u001b[0m \u001b[31m32.7 MB/s\u001b[0m eta \u001b[36m0:00:00\u001b[0m\n",
            "\u001b[?25hInstalling collected packages: setuptools, pip\n",
            "  Attempting uninstall: setuptools\n",
            "    Found existing installation: setuptools 75.1.0\n",
            "    Uninstalling setuptools-75.1.0:\n",
            "      Successfully uninstalled setuptools-75.1.0\n",
            "  Attempting uninstall: pip\n",
            "    Found existing installation: pip 24.1.2\n",
            "    Uninstalling pip-24.1.2:\n",
            "      Successfully uninstalled pip-24.1.2\n",
            "\u001b[31mERROR: pip's dependency resolver does not currently take into account all the packages that are installed. This behaviour is the source of the following dependency conflicts.\n",
            "ipython 7.34.0 requires jedi>=0.16, which is not installed.\u001b[0m\u001b[31m\n",
            "\u001b[0mSuccessfully installed pip-25.0.1 setuptools-75.8.2\n",
            "Collecting lbry-libtorrent\n",
            "  Downloading lbry_libtorrent-1.2.4-py3-none-any.whl.metadata (347 bytes)\n",
            "Downloading lbry_libtorrent-1.2.4-py3-none-any.whl (2.4 MB)\n",
            "\u001b[2K   \u001b[90m━━━━━━━━━━━━━━━━━━━━━━━━━━━━━━━━━━━━━━━━\u001b[0m \u001b[32m2.4/2.4 MB\u001b[0m \u001b[31m60.0 MB/s\u001b[0m eta \u001b[36m0:00:00\u001b[0m\n",
            "\u001b[?25hInstalling collected packages: lbry-libtorrent\n",
            "Successfully installed lbry-libtorrent-1.2.4\n",
            "--2025-03-01 02:11:56--  https://downloads.rclone.org/v1.52.1/rclone-v1.52.1-linux-amd64.deb\n",
            "Resolving downloads.rclone.org (downloads.rclone.org)... 95.217.6.16, 2a01:4f9:c012:7154::1\n",
            "Connecting to downloads.rclone.org (downloads.rclone.org)|95.217.6.16|:443... connected.\n",
            "HTTP request sent, awaiting response... 200 OK\n",
            "Length: 13904596 (13M) [application/vnd.debian.binary-package]\n",
            "Saving to: ‘rclone-v1.52.1-linux-amd64.deb’\n",
            "\n",
            "rclone-v1.52.1-linu 100%[===================>]  13.26M  9.86MB/s    in 1.3s    \n",
            "\n",
            "2025-03-01 02:11:58 (9.86 MB/s) - ‘rclone-v1.52.1-linux-amd64.deb’ saved [13904596/13904596]\n",
            "\n",
            "Reading package lists... Done\n",
            "Building dependency tree... Done\n",
            "Reading state information... Done\n",
            "Note, selecting 'rclone' instead of './rclone-v1.52.1-linux-amd64.deb'\n",
            "The following NEW packages will be installed:\n",
            "  rclone\n",
            "0 upgraded, 1 newly installed, 0 to remove and 29 not upgraded.\n",
            "Need to get 0 B/13.9 MB of archives.\n",
            "After this operation, 43.0 MB of additional disk space will be used.\n",
            "Get:1 /content/rclone-v1.52.1-linux-amd64.deb rclone amd64 1.52.1 [13.9 MB]\n",
            "Selecting previously unselected package rclone.\n",
            "(Reading database ... 124947 files and directories currently installed.)\n",
            "Preparing to unpack .../rclone-v1.52.1-linux-amd64.deb ...\n",
            "Unpacking rclone (1.52.1) ...\n",
            "Setting up rclone (1.52.1) ...\n",
            "Processing triggers for man-db (2.10.2-1) ...\n"
          ]
        }
      ]
    },
    {
      "cell_type": "markdown",
      "metadata": {
        "id": "IMgeaazpytxI"
      },
      "source": [
        "# 2.<font color='orange'>Thêm file config RClone"
      ]
    },
    {
      "cell_type": "code",
      "metadata": {
        "id": "FD9JXMdiyiFH",
        "cellView": "form",
        "outputId": "2c76fbc5-362b-4221-a850-c846ac142072",
        "colab": {
          "base_uri": "https://localhost:8080/",
          "height": 82
        }
      },
      "source": [
        "# @markdown <h3>📝  Hướng dẫn tạo file config rclone</h3>\n",
        "# @markdown   <h4>👉  <a target=\"_blank\" rel=\"noopener\" href=\"https://www.youtube.com/watch?v=n8qghZC1Kuc\">Video hướng dẫn Windows</a></4>\n",
        "# @markdown   <h4>👉  <a target=\"_blank\" rel=\"noopener\" href=\"https://www.youtube.com/watch?v=1SIUmuSt8L0\">Video hướng dẫn Macos</a></4>\n",
        "Setup_Time_Zone = False\n",
        "\n",
        "import os; from google.colab import files; from IPython.display import HTML, clear_output\n",
        "\n",
        "def upload_conf():\n",
        "  try:\n",
        "    display(HTML(\"<h2 style=\\\"font-family:Trebuchet MS;color:#f9bd0d;\\\">Vui lòng upload file (rclone.conf) từ máy tính của bạn.</h2><br>\"))\n",
        "    UploadConfig = files.upload().keys()\n",
        "    clear_output(wait=True)\n",
        "    if len(UploadConfig) == 0:\n",
        "      return display(HTML(\"<center><h2 style=\\\"font-family:Trebuchet MS;color:#ce2121;\\\">Tải lên tệp đã bị hủy trong khi tải tệp lên.</h2><br></center>\"))\n",
        "    elif len(UploadConfig) == 1:\n",
        "      for fn in UploadConfig:\n",
        "        if os.path.isfile(\"/content/\" + fn) == True:\n",
        "          os.environ[\"rclone_conf\"] = fn\n",
        "          !mv -f \"$rclone_conf\" /root/.rclone.conf\n",
        "          !chmod 666 /root/.rclone.conf\n",
        "          if Setup_Time_Zone == True:\n",
        "            !sudo dpkg-reconfigure tzdata\n",
        "            clear_output(wait=True)\n",
        "          if os.path.isfile(\"/usr/bin/rclone\") == True:\n",
        "            return display(HTML(\"<center><h2 style=\\\"font-family:Trebuchet MS;color:#f50e02;\\\">Cấu hình đã được thay đổi.</h2><br></center>\"))\n",
        "          else:\n",
        "            !rm -rf /content/sample_data/\n",
        "            !curl -s https://rclone.org/install.sh | sudo bash\n",
        "            clear_output(wait=True)\n",
        "            return display(HTML(\"<center><h2 style=\\\"font-family:Trebuchet MS;color:#f9bd0d;\\\">Quá trình cài đặt đã hoàn tất thành công.</h2><br></center>\"))\n",
        "        else:\n",
        "          return display(HTML(\"<center><h2 style=\\\"font-family:Trebuchet MS;color:#f50e02;\\\">Tải lên tệp không thành công trong quá trình tải tệp lên.</h2><br></center>\"))\n",
        "    else:\n",
        "      for fn in UploadConfig:\n",
        "        os.environ[\"rclone_conf\"] = fn\n",
        "        !rm -f \"$rclone_conf\"\n",
        "      return display(HTML(\"<center><h2 style=\\\"font-family:Trebuchet MS;color:#f50e02;\\\">Vui lòng chỉ tải lên một tệp mỗi lần.</h2><br></center>\"))\n",
        "  except:\n",
        "    clear_output(wait=True)\n",
        "    return display(HTML(\"<center><h2 style=\\\"font-family:Trebuchet MS;color:#f50e02;\\\">Đã xảy ra lỗi trong quá trình tải tệp lên.</h2><br></center>\"))\n",
        "\n",
        "upload_conf()"
      ],
      "execution_count": 3,
      "outputs": [
        {
          "output_type": "display_data",
          "data": {
            "text/plain": [
              "<IPython.core.display.HTML object>"
            ],
            "text/html": [
              "<center><h2 style=\"font-family:Trebuchet MS;color:#f50e02;\">Cấu hình đã được thay đổi.</h2><br></center>"
            ]
          },
          "metadata": {}
        }
      ]
    },
    {
      "cell_type": "markdown",
      "metadata": {
        "id": "eqVwKRRQycuK"
      },
      "source": [
        "# 3.Thêm đĩa Onedrive vào<font color='yellow'>  Rclone"
      ]
    },
    {
      "cell_type": "code",
      "metadata": {
        "id": "UuAga4Edymzm",
        "colab": {
          "base_uri": "https://localhost:8080/"
        },
        "outputId": "118ca7d2-349c-48a2-89f8-c4df55f4b92c"
      },
      "source": [
        "!mkdir onedrive1\n",
        "!nohup rclone --vfs-cache-mode writes mount onedrive1: ./onedrive1 &"
      ],
      "execution_count": 6,
      "outputs": [
        {
          "output_type": "stream",
          "name": "stdout",
          "text": [
            "nohup: appending output to 'nohup.out'\n"
          ]
        }
      ]
    },
    {
      "cell_type": "code",
      "metadata": {
        "outputId": "14d19c22-c55b-424c-d51a-eac34574f476",
        "colab": {
          "base_uri": "https://localhost:8080/"
        },
        "id": "HgfcWWA3deHo"
      },
      "source": [
        "!sudo mkdir -p 'dropbox1'\n",
        "!nohup rclone --vfs-cache-mode writes mount dropbox1: /content/dropbox1 &"
      ],
      "execution_count": 11,
      "outputs": [
        {
          "output_type": "stream",
          "name": "stdout",
          "text": [
            "nohup: appending output to 'nohup.out'\n"
          ]
        }
      ]
    },
    {
      "cell_type": "markdown",
      "metadata": {
        "id": "RRnxqKfoD1bO"
      },
      "source": [
        "kiểm tra đã liên kết OneDrive"
      ]
    },
    {
      "cell_type": "code",
      "metadata": {
        "id": "Fil_bHuAD8S3"
      },
      "source": [
        "!ls ./onedrive    #sau khi gắn OneDrive thành công, sau đó hiển thị các thư mục và tệp OneDrive của bạn"
      ],
      "execution_count": 5,
      "outputs": []
    },
    {
      "cell_type": "markdown",
      "metadata": {
        "id": "kDDLXWX5xNce"
      },
      "source": [
        "# 4.Thêm <font color='orange'> magnet link/Torrent"
      ]
    },
    {
      "cell_type": "code",
      "metadata": {
        "id": "I7-OMxPiw8ms"
      },
      "source": [
        "!mkdir downloads\n",
        "link = input (\"Dán Magnet link / Torrent link vào\")\n",
        "\n",
        "import libtorrent as lt\n",
        "import time\n",
        "import datetime\n",
        "\n",
        "ses = lt.session()\n",
        "ses.listen_on(6881, 6891)\n",
        "params = {\n",
        "    'save_path': './downloads/',\n",
        "    'storage_mode': lt.storage_mode_t(2)}\n",
        "\n",
        "print(link)\n",
        "\n",
        "handle = lt.add_magnet_uri(ses, link, params)\n",
        "ses.start_dht()\n",
        "\n",
        "begin = time.time()\n",
        "print(datetime.datetime.now())\n",
        "\n",
        "print ('Tải dữ liệu ...')\n",
        "while (not handle.has_metadata()):\n",
        "    time.sleep(1)\n",
        "print ('Đang bắt đầu tải xuống torrent...')\n",
        "\n",
        "print(\"Bắt đầu\", handle.name())\n",
        "\n",
        "while (handle.status().state != lt.torrent_status.seeding):\n",
        "    s = handle.status()\n",
        "    state_str = ['queued', 'checking', 'downloading metadata', \\\n",
        "            'downloading', 'finished', 'seeding', 'allocating']\n",
        "    print ('%.2f%% hoàn thành (down: %.1f kb/s up: %.1f kB/s peers: %d) %s ' % \\\n",
        "            (s.progress * 100, s.download_rate / 1000, s.upload_rate / 1000, \\\n",
        "            s.num_peers, state_str[s.state]))\n",
        "    time.sleep(5)\n",
        "\n",
        "end = time.time()\n",
        "print(handle.name(), \"TẢI THÀNH CÔNG - HÃY CHUYỂN FILE VÀO ONEDRIVE\")\n",
        "\n",
        "print(\"Thời gian đã qua: \",int((end-begin)//60),\"phút :\", int((end-begin)%60), \"giây\")\n",
        "\n",
        "print(datetime.datetime.now())"
      ],
      "execution_count": null,
      "outputs": []
    },
    {
      "cell_type": "markdown",
      "metadata": {
        "id": "UICcSRW1y0bc"
      },
      "source": [
        "# 5 <font color='yellow'>.**Copy file** vào </font> Onedrive"
      ]
    },
    {
      "cell_type": "code",
      "metadata": {
        "id": "2oP2E-GRzAsn"
      },
      "source": [
        "!rsync -ah --progress downloads/ onedrive/            #Vui lòng đợi đến khi qua trình hoàn tất"
      ],
      "execution_count": null,
      "outputs": []
    },
    {
      "cell_type": "markdown",
      "metadata": {
        "id": "VhognXTLjXk7"
      },
      "source": [
        "<img src='https://i.pinimg.com/originals/71/3a/32/713a3272124cc57ba9e9fb7f59e9ab3b.gif' height=\"200\" />"
      ]
    }
  ]
}